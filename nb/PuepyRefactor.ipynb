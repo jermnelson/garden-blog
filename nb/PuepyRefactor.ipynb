{
 "cells": [
  {
   "cell_type": "markdown",
   "id": "8009b72d-cf59-47fb-9c62-19f898e202b0",
   "metadata": {},
   "source": [
    "# Puepy Refactor"
   ]
  },
  {
   "cell_type": "code",
   "execution_count": 1,
   "id": "f1a6529a-cc71-4828-acbe-44feb1c4bbbe",
   "metadata": {},
   "outputs": [],
   "source": [
    "import json\n",
    "import pathlib"
   ]
  },
  {
   "cell_type": "markdown",
   "id": "7fe4df90-4f75-4032-8ad5-adc73bf6ed78",
   "metadata": {},
   "source": [
    "## Generate pyscript.json"
   ]
  },
  {
   "cell_type": "code",
   "execution_count": 2,
   "id": "8d36d8eb-3908-4d0b-ae10-73dd26047a9a",
   "metadata": {},
   "outputs": [],
   "source": [
    "pyscript = {\n",
    "    \"name\": \"Musings and reflections on gardening blog\",\n",
    "    \"debug\": True,\n",
    "    \"files\": {\n",
    "        \"./common.py\": \"common.py\"\n",
    "    },\n",
    "    \"js_modules\": {\n",
    "        \"main\": {\n",
    "          \"https://cdn.jsdelivr.net/npm/morphdom@2.7.4/+esm\": \"morphdom\"\n",
    "        }\n",
    "      },\n",
    "      \"packages\": [\n",
    "        \"markdown\",\n",
    "        \"./wheels/puepy-0.6.5-py3-none-any.whl\"\n",
    "  ]\n",
    "}"
   ]
  },
  {
   "cell_type": "code",
   "execution_count": 3,
   "id": "5773400b-c074-403a-9363-ef3558402437",
   "metadata": {},
   "outputs": [],
   "source": [
    "posts = pathlib.Path(\"../posts\")"
   ]
  },
  {
   "cell_type": "code",
   "execution_count": 9,
   "id": "030caaff-2a28-434e-8904-0a0441dcecd2",
   "metadata": {},
   "outputs": [
    {
     "name": "stdout",
     "output_type": "stream",
     "text": [
      "02021\n",
      "02019\n",
      "02020\n",
      "02025\n",
      "02022\n",
      "02023\n",
      "02024\n"
     ]
    }
   ],
   "source": [
    "for year in posts.glob(\"020*\"):\n",
    "    print(year.name)\n",
    "    for post in year.glob(\"*.md\"):\n",
    "        pyscript[\"files\"][f\"./posts/{year.name}/{post.name}\"] = f\"./{year.name}/{post.name}\""
   ]
  },
  {
   "cell_type": "code",
   "execution_count": 10,
   "id": "979b48cc-32d9-410d-8a45-270973bd02ed",
   "metadata": {},
   "outputs": [
    {
     "data": {
      "text/plain": [
       "{'name': 'Musings and reflections on gardening blog',\n",
       " 'debug': True,\n",
       " 'files': {'./common.py': 'common.py',\n",
       "  './posts/02021/02-28.md': './02021/02-28.md',\n",
       "  './posts/02021/03-06.md': './02021/03-06.md',\n",
       "  './posts/02021/10-05.md': './02021/10-05.md',\n",
       "  './posts/02021/05-22.md': './02021/05-22.md',\n",
       "  './posts/02021/07-12.md': './02021/07-12.md',\n",
       "  './posts/02021/05-29.md': './02021/05-29.md',\n",
       "  './posts/02021/06-13.md': './02021/06-13.md',\n",
       "  './posts/02021/01-09.md': './02021/01-09.md',\n",
       "  './posts/02021/07-28.md': './02021/07-28.md',\n",
       "  './posts/02021/04-25.md': './02021/04-25.md',\n",
       "  './posts/02021/02-21.md': './02021/02-21.md',\n",
       "  './posts/02021/06-10.md': './02021/06-10.md',\n",
       "  './posts/02021/05-01.md': './02021/05-01.md',\n",
       "  './posts/02021/01-30.md': './02021/01-30.md',\n",
       "  './posts/02021/08-28.md': './02021/08-28.md',\n",
       "  './posts/02021/08-29.md': './02021/08-29.md',\n",
       "  './posts/02019/09-10.md': './02019/09-10.md',\n",
       "  './posts/02019/05-03.md': './02019/05-03.md',\n",
       "  './posts/02019/04-28.md': './02019/04-28.md',\n",
       "  './posts/02019/07-16.md': './02019/07-16.md',\n",
       "  './posts/02019/12-31.md': './02019/12-31.md',\n",
       "  './posts/02019/07-02.md': './02019/07-02.md',\n",
       "  './posts/02019/06-28.md': './02019/06-28.md',\n",
       "  './posts/02019/06-07.md': './02019/06-07.md',\n",
       "  './posts/02019/08-04.md': './02019/08-04.md',\n",
       "  './posts/02019/04-23.md': './02019/04-23.md',\n",
       "  './posts/02019/05-19.md': './02019/05-19.md',\n",
       "  './posts/02019/08-10.md': './02019/08-10.md',\n",
       "  './posts/02019/06-16.md': './02019/06-16.md',\n",
       "  './posts/02019/04-21.md': './02019/04-21.md',\n",
       "  './posts/02019/08-26.md': './02019/08-26.md',\n",
       "  './posts/02019/10-09.md': './02019/10-09.md',\n",
       "  './posts/02019/04-20.md': './02019/04-20.md',\n",
       "  './posts/02019/08-18.md': './02019/08-18.md',\n",
       "  './posts/02019/09-22.md': './02019/09-22.md',\n",
       "  './posts/02019/08-28.md': './02019/08-28.md',\n",
       "  './posts/02019/10-27.md': './02019/10-27.md',\n",
       "  './posts/02019/05-14.md': './02019/05-14.md',\n",
       "  './posts/02020/03-12.md': './02020/03-12.md',\n",
       "  './posts/02020/04-19.md': './02020/04-19.md',\n",
       "  './posts/02020/07-03.md': './02020/07-03.md',\n",
       "  './posts/02020/05-07.md': './02020/05-07.md',\n",
       "  './posts/02020/03-16.md': './02020/03-16.md',\n",
       "  './posts/02020/03-23.md': './02020/03-23.md',\n",
       "  './posts/02020/09-05.md': './02020/09-05.md',\n",
       "  './posts/02020/05-02.md': './02020/05-02.md',\n",
       "  './posts/02020/05-22.md': './02020/05-22.md',\n",
       "  './posts/02020/06-07.md': './02020/06-07.md',\n",
       "  './posts/02020/06-13.md': './02020/06-13.md',\n",
       "  './posts/02020/08-01.md': './02020/08-01.md',\n",
       "  './posts/02020/02-13.md': './02020/02-13.md',\n",
       "  './posts/02020/07-18.md': './02020/07-18.md',\n",
       "  './posts/02020/04-05.md': './02020/04-05.md',\n",
       "  './posts/02020/10-18.md': './02020/10-18.md',\n",
       "  './posts/02020/11-07.md': './02020/11-07.md',\n",
       "  './posts/02020/04-30.md': './02020/04-30.md',\n",
       "  './posts/02020/08-08.md': './02020/08-08.md',\n",
       "  './posts/02020/12-26.md': './02020/12-26.md',\n",
       "  './posts/02020/08-28.md': './02020/08-28.md',\n",
       "  './posts/02020/09-26.md': './02020/09-26.md',\n",
       "  './posts/02020/12-22.md': './02020/12-22.md',\n",
       "  './posts/02020/12-16.md': './02020/12-16.md',\n",
       "  './posts/02020/01-15.md': './02020/01-15.md',\n",
       "  './posts/02020/09-07.md': './02020/09-07.md',\n",
       "  './posts/02025/01-02.md': './02025/01-02.md',\n",
       "  './posts/02025/05-26.md': './02025/05-26.md',\n",
       "  './posts/02025/02-16.md': './02025/02-16.md',\n",
       "  './posts/02025/04-25.md': './02025/04-25.md',\n",
       "  './posts/02025/02-21.md': './02025/02-21.md',\n",
       "  './posts/02025/03-25.md': './02025/03-25.md',\n",
       "  './posts/02025/03-01.md': './02025/03-01.md',\n",
       "  './posts/02025/05-10.md': './02025/05-10.md',\n",
       "  './posts/02022/04-08.md': './02022/04-08.md',\n",
       "  './posts/02022/05-18.md': './02022/05-18.md',\n",
       "  './posts/02022/01-09.md': './02022/01-09.md',\n",
       "  './posts/02022/12-19.md': './02022/12-19.md',\n",
       "  './posts/02022/10-22.md': './02022/10-22.md',\n",
       "  './posts/02022/09-22.md': './02022/09-22.md',\n",
       "  './posts/02022/05-21.md': './02022/05-21.md',\n",
       "  './posts/02022/11-19.md': './02022/11-19.md',\n",
       "  './posts/02023/07-24.md': './02023/07-24.md',\n",
       "  './posts/02024/09-14.md': './02024/09-14.md',\n",
       "  './posts/02024/10-30.md': './02024/10-30.md',\n",
       "  './posts/02024/03-23.md': './02024/03-23.md',\n",
       "  './posts/02024/03-17.md': './02024/03-17.md',\n",
       "  './posts/02024/06-08.md': './02024/06-08.md',\n",
       "  './posts/02024/05-09.md': './02024/05-09.md',\n",
       "  './posts/02024/06-01.md': './02024/06-01.md',\n",
       "  './posts/02024/11-27.md': './02024/11-27.md',\n",
       "  './posts/02024/12-19.md': './02024/12-19.md'},\n",
       " 'js_modules': {'main': {'https://cdn.jsdelivr.net/npm/morphdom@2.7.4/+esm': 'morphdom'}},\n",
       " 'packages': ['markdown', './wheels/puepy-0.6.5-py3-none-any.whl']}"
      ]
     },
     "execution_count": 10,
     "metadata": {},
     "output_type": "execute_result"
    }
   ],
   "source": [
    "pyscript"
   ]
  },
  {
   "cell_type": "code",
   "execution_count": 11,
   "id": "8da250d9-fa81-4f55-8c3f-55cc42b1e25e",
   "metadata": {},
   "outputs": [],
   "source": [
    "with open(\"../pyscript.json\", \"w+\") as fo:\n",
    "    json.dump(pyscript, fo, indent=True)"
   ]
  },
  {
   "cell_type": "code",
   "execution_count": 13,
   "id": "4c041611-d12a-4ebd-8a2c-f5d015d8250e",
   "metadata": {},
   "outputs": [
    {
     "data": {
      "text/plain": [
       "[2019, 2020, 2021, 2022, 2023, 2024, 2025]"
      ]
     },
     "execution_count": 13,
     "metadata": {},
     "output_type": "execute_result"
    }
   ],
   "source": [
    "[year for year in range(2019, 2026)]"
   ]
  },
  {
   "cell_type": "code",
   "execution_count": null,
   "id": "c075b07f-aba4-40dc-8bbd-b29b93c38831",
   "metadata": {},
   "outputs": [],
   "source": []
  }
 ],
 "metadata": {
  "kernelspec": {
   "display_name": "Python 3 (ipykernel)",
   "language": "python",
   "name": "python3"
  },
  "language_info": {
   "codemirror_mode": {
    "name": "ipython",
    "version": 3
   },
   "file_extension": ".py",
   "mimetype": "text/x-python",
   "name": "python",
   "nbconvert_exporter": "python",
   "pygments_lexer": "ipython3",
   "version": "3.13.1"
  }
 },
 "nbformat": 4,
 "nbformat_minor": 5
}
