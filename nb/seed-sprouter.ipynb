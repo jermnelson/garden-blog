{
 "cells": [
  {
   "cell_type": "markdown",
   "metadata": {},
   "source": [
    "# Seed Sprouter "
   ]
  },
  {
   "cell_type": "code",
   "execution_count": 97,
   "metadata": {},
   "outputs": [],
   "source": [
    "import datetime\n",
    "import pathlib\n",
    "import pandas as pd\n",
    "from IPython.display import display\n",
    "import ipywidgets as widgets\n",
    "sprout_names = ['Alfalfa',\n",
    "                'Red Clover']\n",
    "actions = ['harvest','plant','prep','watering']\n",
    "sprout_dropdown = widgets.Dropdown(options=sprout_names)\n",
    "actions_dropdown = widgets.Dropdown(options=actions)\n",
    "amount = widgets.IntSlider()\n",
    "seed_sprouter_file = \"../js/seed-sprouter.json\""
   ]
  },
  {
   "cell_type": "code",
   "execution_count": 111,
   "metadata": {},
   "outputs": [],
   "source": [
    "def action(type_of: str,\n",
    "           sprout: str=None,\n",
    "           amount: float=0, \n",
    "           time_stamp: datetime.datetime=None) -> dict:\n",
    "    if time_stamp is None:\n",
    "        time_stamp = datetime.datetime.utcnow()\n",
    "    if not type_of in actions:\n",
    "        raise ValueError(f\"{type_of.title()} not a valid action\")\n",
    "    if not sprout or not sprout in sprout_names:\n",
    "        raise ValueError(f\"{type_of.title()} action requires valid sprout. {sprout}\")\n",
    "    record = {'taken': time_stamp, \n",
    "              'type': type_of, \n",
    "              'sprout': sprout, \n",
    "              'amount': amount,\n",
    "              'scale': 'gram'}\n",
    "    if type_of.startswith('plant') or type_of.startswith('prep'):\n",
    "        if amount < 1:\n",
    "            raise ValueError(f\"{type_of.title()} action requires amount\")\n",
    "    return record    "
   ]
  },
  {
   "cell_type": "code",
   "execution_count": 112,
   "metadata": {},
   "outputs": [
    {
     "data": {
      "application/vnd.jupyter.widget-view+json": {
       "model_id": "4f6ffc8a5a9a4c79a5e9140c858b0521",
       "version_major": 2,
       "version_minor": 0
      },
      "text/plain": [
       "Dropdown(options=('harvest', 'plant', 'prep', 'watering'), value='harvest')"
      ]
     },
     "metadata": {},
     "output_type": "display_data"
    },
    {
     "data": {
      "application/vnd.jupyter.widget-view+json": {
       "model_id": "aa44350a9af046c1a79f9b017bbf728e",
       "version_major": 2,
       "version_minor": 0
      },
      "text/plain": [
       "Dropdown(options=('Alfalfa', 'Red Clover'), value='Alfalfa')"
      ]
     },
     "metadata": {},
     "output_type": "display_data"
    },
    {
     "data": {
      "application/vnd.jupyter.widget-view+json": {
       "model_id": "9d5670bf805c4602a7e9a51c9a828226",
       "version_major": 2,
       "version_minor": 0
      },
      "text/plain": [
       "IntSlider(value=0)"
      ]
     },
     "metadata": {},
     "output_type": "display_data"
    }
   ],
   "source": [
    "display(actions_dropdown, sprout_dropdown, amount)"
   ]
  },
  {
   "cell_type": "code",
   "execution_count": 87,
   "metadata": {},
   "outputs": [
    {
     "name": "stdout",
     "output_type": "stream",
     "text": [
      "prep Red Clover 21.0\n"
     ]
    }
   ],
   "source": [
    "print(actions_dropdown.value, sprout_dropdown.value, amount.value-32.)"
   ]
  },
  {
   "cell_type": "code",
   "execution_count": 109,
   "metadata": {},
   "outputs": [],
   "source": [
    "sprout = pd.read_json(seed_sprouter_file)"
   ]
  },
  {
   "cell_type": "code",
   "execution_count": 110,
   "metadata": {},
   "outputs": [
    {
     "data": {
      "text/html": [
       "<div>\n",
       "<style scoped>\n",
       "    .dataframe tbody tr th:only-of-type {\n",
       "        vertical-align: middle;\n",
       "    }\n",
       "\n",
       "    .dataframe tbody tr th {\n",
       "        vertical-align: top;\n",
       "    }\n",
       "\n",
       "    .dataframe thead th {\n",
       "        text-align: right;\n",
       "    }\n",
       "</style>\n",
       "<table border=\"1\" class=\"dataframe\">\n",
       "  <thead>\n",
       "    <tr style=\"text-align: right;\">\n",
       "      <th></th>\n",
       "      <th>amount</th>\n",
       "      <th>sprout</th>\n",
       "      <th>taken</th>\n",
       "      <th>type</th>\n",
       "      <th>scale</th>\n",
       "    </tr>\n",
       "  </thead>\n",
       "  <tbody>\n",
       "    <tr>\n",
       "      <th>0</th>\n",
       "      <td>21</td>\n",
       "      <td>Red Clover</td>\n",
       "      <td>1609020559696</td>\n",
       "      <td>prep</td>\n",
       "      <td>gram</td>\n",
       "    </tr>\n",
       "    <tr>\n",
       "      <th>1</th>\n",
       "      <td>10</td>\n",
       "      <td>Alfalfa</td>\n",
       "      <td>1609020592204</td>\n",
       "      <td>prep</td>\n",
       "      <td>gram</td>\n",
       "    </tr>\n",
       "  </tbody>\n",
       "</table>\n",
       "</div>"
      ],
      "text/plain": [
       "   amount      sprout          taken  type scale\n",
       "0      21  Red Clover  1609020559696  prep  gram\n",
       "1      10     Alfalfa  1609020592204  prep  gram"
      ]
     },
     "execution_count": 110,
     "metadata": {},
     "output_type": "execute_result"
    }
   ],
   "source": [
    "sprout"
   ]
  },
  {
   "cell_type": "code",
   "execution_count": 115,
   "metadata": {},
   "outputs": [],
   "source": [
    "sprout = sprout.append(action(actions_dropdown.value, \n",
    "                              sprout_dropdown.value, \n",
    "                              amount.value), \n",
    "                       ignore_index=True)"
   ]
  },
  {
   "cell_type": "code",
   "execution_count": 116,
   "metadata": {},
   "outputs": [
    {
     "data": {
      "text/html": [
       "<div>\n",
       "<style scoped>\n",
       "    .dataframe tbody tr th:only-of-type {\n",
       "        vertical-align: middle;\n",
       "    }\n",
       "\n",
       "    .dataframe tbody tr th {\n",
       "        vertical-align: top;\n",
       "    }\n",
       "\n",
       "    .dataframe thead th {\n",
       "        text-align: right;\n",
       "    }\n",
       "</style>\n",
       "<table border=\"1\" class=\"dataframe\">\n",
       "  <thead>\n",
       "    <tr style=\"text-align: right;\">\n",
       "      <th></th>\n",
       "      <th>amount</th>\n",
       "      <th>sprout</th>\n",
       "      <th>taken</th>\n",
       "      <th>type</th>\n",
       "      <th>scale</th>\n",
       "    </tr>\n",
       "  </thead>\n",
       "  <tbody>\n",
       "    <tr>\n",
       "      <th>0</th>\n",
       "      <td>21</td>\n",
       "      <td>Red Clover</td>\n",
       "      <td>1609020559696</td>\n",
       "      <td>prep</td>\n",
       "      <td>gram</td>\n",
       "    </tr>\n",
       "    <tr>\n",
       "      <th>1</th>\n",
       "      <td>10</td>\n",
       "      <td>Alfalfa</td>\n",
       "      <td>1609020592204</td>\n",
       "      <td>prep</td>\n",
       "      <td>gram</td>\n",
       "    </tr>\n",
       "    <tr>\n",
       "      <th>2</th>\n",
       "      <td>21</td>\n",
       "      <td>Red Clover</td>\n",
       "      <td>2020-12-28 01:59:53.862822</td>\n",
       "      <td>plant</td>\n",
       "      <td>gram</td>\n",
       "    </tr>\n",
       "    <tr>\n",
       "      <th>3</th>\n",
       "      <td>11</td>\n",
       "      <td>Alfalfa</td>\n",
       "      <td>2020-12-28 02:00:21.865005</td>\n",
       "      <td>plant</td>\n",
       "      <td>gram</td>\n",
       "    </tr>\n",
       "  </tbody>\n",
       "</table>\n",
       "</div>"
      ],
      "text/plain": [
       "   amount      sprout                       taken   type scale\n",
       "0      21  Red Clover               1609020559696   prep  gram\n",
       "1      10     Alfalfa               1609020592204   prep  gram\n",
       "2      21  Red Clover  2020-12-28 01:59:53.862822  plant  gram\n",
       "3      11     Alfalfa  2020-12-28 02:00:21.865005  plant  gram"
      ]
     },
     "execution_count": 116,
     "metadata": {},
     "output_type": "execute_result"
    }
   ],
   "source": [
    "sprout"
   ]
  },
  {
   "cell_type": "code",
   "execution_count": 102,
   "metadata": {},
   "outputs": [],
   "source": [
    "sprout.to_json(seed_sprouter_file)   "
   ]
  }
 ],
 "metadata": {
  "kernelspec": {
   "display_name": "Python 3",
   "language": "python",
   "name": "python3"
  },
  "language_info": {
   "codemirror_mode": {
    "name": "ipython",
    "version": 3
   },
   "file_extension": ".py",
   "mimetype": "text/x-python",
   "name": "python",
   "nbconvert_exporter": "python",
   "pygments_lexer": "ipython3",
   "version": "3.8.1"
  }
 },
 "nbformat": 4,
 "nbformat_minor": 4
}
