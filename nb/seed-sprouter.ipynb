{
 "cells": [
  {
   "cell_type": "markdown",
   "metadata": {},
   "source": [
    "# Seed Sprouter "
   ]
  },
  {
   "cell_type": "code",
   "execution_count": 97,
   "metadata": {},
   "outputs": [],
   "source": [
    "import datetime\n",
    "import pathlib\n",
    "import pandas as pd\n",
    "from IPython.display import display\n",
    "import ipywidgets as widgets\n",
    "sprout_names = ['Alfalfa',\n",
    "                'Red Clover']\n",
    "actions = ['harvest','plant','prep','watering']\n",
    "sprout_dropdown = widgets.Dropdown(options=sprout_names)\n",
    "actions_dropdown = widgets.Dropdown(options=actions)\n",
    "amount = widgets.IntSlider()\n",
    "seed_sprouter_file = \"../js/seed-sprouter.json\""
   ]
  },
  {
   "cell_type": "code",
   "execution_count": 83,
   "metadata": {},
   "outputs": [],
   "source": [
    "def action(type_of: str,\n",
    "           sprout: str=None,\n",
    "           amount: float=0, \n",
    "           time_stamp: datetime.datetime=None) -> dict:\n",
    "    if time_stamp is None:\n",
    "        time_stamp = datetime.datetime.utcnow()\n",
    "    if not type_of in actions:\n",
    "        raise ValueError(f\"{type_of.title()} not a valid action\")\n",
    "    if not sprout or not sprout in sprout_names:\n",
    "        raise ValueError(f\"{type_of.title()} action requires valid sprout. {sprout}\")\n",
    "    record = {'taken': time_stamp, \n",
    "              'type': type_of, \n",
    "              'sprout': sprout, \n",
    "              'amount': amount }\n",
    "    if type_of.startswith('plant') or type_of.startswith('prep'):\n",
    "        if amount < 1:\n",
    "            raise ValueError(f\"{type_of.title()} action requires amount\")\n",
    "    return record    "
   ]
  },
  {
   "cell_type": "code",
   "execution_count": 85,
   "metadata": {},
   "outputs": [
    {
     "data": {
      "application/vnd.jupyter.widget-view+json": {
       "model_id": "4db9b56659f149b1a951adaa15d528b7",
       "version_major": 2,
       "version_minor": 0
      },
      "text/plain": [
       "Dropdown(options=('harvest', 'plant', 'prep', 'watering'), value='harvest')"
      ]
     },
     "metadata": {},
     "output_type": "display_data"
    },
    {
     "data": {
      "application/vnd.jupyter.widget-view+json": {
       "model_id": "f78db2e6933b4a53a6308959311cc9dd",
       "version_major": 2,
       "version_minor": 0
      },
      "text/plain": [
       "Dropdown(options=('Alfalfa', 'Red Clover'), value='Alfalfa')"
      ]
     },
     "metadata": {},
     "output_type": "display_data"
    },
    {
     "data": {
      "application/vnd.jupyter.widget-view+json": {
       "model_id": "990e23aa22c74e2d96b97421a2e8504e",
       "version_major": 2,
       "version_minor": 0
      },
      "text/plain": [
       "IntSlider(value=0)"
      ]
     },
     "metadata": {},
     "output_type": "display_data"
    }
   ],
   "source": [
    "display(actions_dropdown, sprout_dropdown, amount)"
   ]
  },
  {
   "cell_type": "code",
   "execution_count": 87,
   "metadata": {},
   "outputs": [
    {
     "name": "stdout",
     "output_type": "stream",
     "text": [
      "prep Red Clover 21.0\n"
     ]
    }
   ],
   "source": [
    "print(actions_dropdown.value, sprout_dropdown.value, amount.value-32.)"
   ]
  },
  {
   "cell_type": "code",
   "execution_count": 98,
   "metadata": {},
   "outputs": [],
   "source": [
    "sprout = pd.read_json(seed_sprouter_file)"
   ]
  },
  {
   "cell_type": "code",
   "execution_count": 99,
   "metadata": {},
   "outputs": [
    {
     "data": {
      "text/html": [
       "<div>\n",
       "<style scoped>\n",
       "    .dataframe tbody tr th:only-of-type {\n",
       "        vertical-align: middle;\n",
       "    }\n",
       "\n",
       "    .dataframe tbody tr th {\n",
       "        vertical-align: top;\n",
       "    }\n",
       "\n",
       "    .dataframe thead th {\n",
       "        text-align: right;\n",
       "    }\n",
       "</style>\n",
       "<table border=\"1\" class=\"dataframe\">\n",
       "  <thead>\n",
       "    <tr style=\"text-align: right;\">\n",
       "      <th></th>\n",
       "      <th>amount</th>\n",
       "      <th>sprout</th>\n",
       "      <th>taken</th>\n",
       "      <th>type</th>\n",
       "    </tr>\n",
       "  </thead>\n",
       "  <tbody>\n",
       "    <tr>\n",
       "      <th>0</th>\n",
       "      <td>53</td>\n",
       "      <td>Red Clover</td>\n",
       "      <td>1609020559696</td>\n",
       "      <td>prep</td>\n",
       "    </tr>\n",
       "    <tr>\n",
       "      <th>1</th>\n",
       "      <td>42</td>\n",
       "      <td>Alfalfa</td>\n",
       "      <td>1609020592204</td>\n",
       "      <td>prep</td>\n",
       "    </tr>\n",
       "  </tbody>\n",
       "</table>\n",
       "</div>"
      ],
      "text/plain": [
       "   amount      sprout          taken  type\n",
       "0      53  Red Clover  1609020559696  prep\n",
       "1      42     Alfalfa  1609020592204  prep"
      ]
     },
     "execution_count": 99,
     "metadata": {},
     "output_type": "execute_result"
    }
   ],
   "source": [
    "sprout.head()"
   ]
  },
  {
   "cell_type": "code",
   "execution_count": 92,
   "metadata": {},
   "outputs": [],
   "source": [
    "sprout = sprout.append(action(actions_dropdown.value, \n",
    "                              sprout_dropdown.value, \n",
    "                              amount.value), \n",
    "                       ignore_index=True)"
   ]
  },
  {
   "cell_type": "code",
   "execution_count": 93,
   "metadata": {},
   "outputs": [
    {
     "data": {
      "text/html": [
       "<div>\n",
       "<style scoped>\n",
       "    .dataframe tbody tr th:only-of-type {\n",
       "        vertical-align: middle;\n",
       "    }\n",
       "\n",
       "    .dataframe tbody tr th {\n",
       "        vertical-align: top;\n",
       "    }\n",
       "\n",
       "    .dataframe thead th {\n",
       "        text-align: right;\n",
       "    }\n",
       "</style>\n",
       "<table border=\"1\" class=\"dataframe\">\n",
       "  <thead>\n",
       "    <tr style=\"text-align: right;\">\n",
       "      <th></th>\n",
       "      <th>amount</th>\n",
       "      <th>sprout</th>\n",
       "      <th>taken</th>\n",
       "      <th>type</th>\n",
       "    </tr>\n",
       "  </thead>\n",
       "  <tbody>\n",
       "    <tr>\n",
       "      <th>0</th>\n",
       "      <td>53.0</td>\n",
       "      <td>Red Clover</td>\n",
       "      <td>2020-12-26 22:09:19.696683</td>\n",
       "      <td>prep</td>\n",
       "    </tr>\n",
       "    <tr>\n",
       "      <th>1</th>\n",
       "      <td>42.0</td>\n",
       "      <td>Alfalfa</td>\n",
       "      <td>2020-12-26 22:09:52.204804</td>\n",
       "      <td>prep</td>\n",
       "    </tr>\n",
       "  </tbody>\n",
       "</table>\n",
       "</div>"
      ],
      "text/plain": [
       "   amount      sprout                      taken  type\n",
       "0    53.0  Red Clover 2020-12-26 22:09:19.696683  prep\n",
       "1    42.0     Alfalfa 2020-12-26 22:09:52.204804  prep"
      ]
     },
     "execution_count": 93,
     "metadata": {},
     "output_type": "execute_result"
    }
   ],
   "source": [
    "sprout"
   ]
  },
  {
   "cell_type": "code",
   "execution_count": 96,
   "metadata": {},
   "outputs": [],
   "source": [
    "sprout.to_json(seed_sprouter_file)\n",
    "    "
   ]
  },
  {
   "cell_type": "code",
   "execution_count": null,
   "metadata": {},
   "outputs": [],
   "source": []
  }
 ],
 "metadata": {
  "kernelspec": {
   "display_name": "Python 3",
   "language": "python",
   "name": "python3"
  },
  "language_info": {
   "codemirror_mode": {
    "name": "ipython",
    "version": 3
   },
   "file_extension": ".py",
   "mimetype": "text/x-python",
   "name": "python",
   "nbconvert_exporter": "python",
   "pygments_lexer": "ipython3",
   "version": "3.8.1"
  }
 },
 "nbformat": 4,
 "nbformat_minor": 4
}
