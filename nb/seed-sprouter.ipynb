{
 "cells": [
  {
   "cell_type": "markdown",
   "metadata": {},
   "source": [
    "# Seed Sprouter "
   ]
  },
  {
   "cell_type": "code",
   "execution_count": 125,
   "metadata": {},
   "outputs": [],
   "source": [
    "import datetime\n",
    "import pathlib\n",
    "import pandas as pd\n",
    "from IPython.display import display\n",
    "import ipywidgets as widgets\n",
    "sprout_names = ['Alfalfa',\n",
    "                'Red Clover']\n",
    "actions = ['harvest','plant','prep','watering']\n",
    "sprout_dropdown = widgets.Dropdown(options=sprout_names)\n",
    "actions_dropdown = widgets.Dropdown(options=actions)\n",
    "amount = widgets.IntSlider()\n",
    "save_action = widgets.Button(description='Update')\n",
    "seed_sprouter_file = \"../js/seed-sprouter.json\""
   ]
  },
  {
   "cell_type": "code",
   "execution_count": 131,
   "metadata": {},
   "outputs": [],
   "source": [
    "def action(type_of: str,\n",
    "           sprout: str=None,\n",
    "           amount: float=0, \n",
    "           time_stamp: datetime.datetime=None) -> dict:\n",
    "    if time_stamp is None:\n",
    "        time_stamp = datetime.datetime.utcnow()\n",
    "    if not type_of in actions:\n",
    "        raise ValueError(f\"{type_of.title()} not a valid action\")\n",
    "    if not sprout or not sprout in sprout_names:\n",
    "        raise ValueError(f\"{type_of.title()} action requires valid sprout. {sprout}\")\n",
    "    record = {'taken': time_stamp, \n",
    "              'type': type_of, \n",
    "              'sprout': sprout, \n",
    "              'amount': amount}\n",
    "    \n",
    "    if not type_of.startswith(\"watering\"):\n",
    "        record['scale'] = 'gram'\n",
    "    if type_of.startswith('plant') or type_of.startswith('prep'):\n",
    "        if amount < 1:\n",
    "            raise ValueError(f\"{type_of.title()} action requires amount\")\n",
    "    return record\n",
    "\n",
    "def save(b):\n",
    "    sprout = pd.read_json(seed_sprouter_file)\n",
    "    sprout = sprout.append(action(actions_dropdown.value, \n",
    "                              sprout_dropdown.value, \n",
    "                              amount.value), \n",
    "                       ignore_index=True)\n",
    "    sprout.to_json(seed_sprouter_file)   \n",
    "    return sprout\n",
    "\n",
    "save_action.on_click(save)"
   ]
  },
  {
   "cell_type": "code",
   "execution_count": 134,
   "metadata": {},
   "outputs": [
    {
     "data": {
      "application/vnd.jupyter.widget-view+json": {
       "model_id": "0278b07affb747c5a851b3fb4daec8d4",
       "version_major": 2,
       "version_minor": 0
      },
      "text/plain": [
       "Dropdown(index=3, options=('harvest', 'plant', 'prep', 'watering'), value='watering')"
      ]
     },
     "metadata": {},
     "output_type": "display_data"
    },
    {
     "data": {
      "application/vnd.jupyter.widget-view+json": {
       "model_id": "1680364fd8aa4f029c95e763425cb474",
       "version_major": 2,
       "version_minor": 0
      },
      "text/plain": [
       "Dropdown(index=1, options=('Alfalfa', 'Red Clover'), value='Red Clover')"
      ]
     },
     "metadata": {},
     "output_type": "display_data"
    },
    {
     "data": {
      "application/vnd.jupyter.widget-view+json": {
       "model_id": "62823bcad6d34984be878e6398e91998",
       "version_major": 2,
       "version_minor": 0
      },
      "text/plain": [
       "IntSlider(value=0)"
      ]
     },
     "metadata": {},
     "output_type": "display_data"
    },
    {
     "data": {
      "application/vnd.jupyter.widget-view+json": {
       "model_id": "ca9499cf1d7c4c86857567c7bfd59bd9",
       "version_major": 2,
       "version_minor": 0
      },
      "text/plain": [
       "Button(description='Update', style=ButtonStyle())"
      ]
     },
     "metadata": {},
     "output_type": "display_data"
    }
   ],
   "source": [
    "display(actions_dropdown, sprout_dropdown, amount, save_action)"
   ]
  },
  {
   "cell_type": "code",
   "execution_count": 133,
   "metadata": {},
   "outputs": [
    {
     "data": {
      "text/html": [
       "<div>\n",
       "<style scoped>\n",
       "    .dataframe tbody tr th:only-of-type {\n",
       "        vertical-align: middle;\n",
       "    }\n",
       "\n",
       "    .dataframe tbody tr th {\n",
       "        vertical-align: top;\n",
       "    }\n",
       "\n",
       "    .dataframe thead th {\n",
       "        text-align: right;\n",
       "    }\n",
       "</style>\n",
       "<table border=\"1\" class=\"dataframe\">\n",
       "  <thead>\n",
       "    <tr style=\"text-align: right;\">\n",
       "      <th></th>\n",
       "      <th>amount</th>\n",
       "      <th>sprout</th>\n",
       "      <th>taken</th>\n",
       "      <th>type</th>\n",
       "      <th>scale</th>\n",
       "    </tr>\n",
       "  </thead>\n",
       "  <tbody>\n",
       "    <tr>\n",
       "      <th>0</th>\n",
       "      <td>21</td>\n",
       "      <td>Red Clover</td>\n",
       "      <td>1609020559696</td>\n",
       "      <td>prep</td>\n",
       "      <td>gram</td>\n",
       "    </tr>\n",
       "    <tr>\n",
       "      <th>1</th>\n",
       "      <td>10</td>\n",
       "      <td>Alfalfa</td>\n",
       "      <td>1609020592204</td>\n",
       "      <td>prep</td>\n",
       "      <td>gram</td>\n",
       "    </tr>\n",
       "    <tr>\n",
       "      <th>2</th>\n",
       "      <td>21</td>\n",
       "      <td>Red Clover</td>\n",
       "      <td>1609120793862</td>\n",
       "      <td>plant</td>\n",
       "      <td>gram</td>\n",
       "    </tr>\n",
       "    <tr>\n",
       "      <th>3</th>\n",
       "      <td>11</td>\n",
       "      <td>Alfalfa</td>\n",
       "      <td>1609120821865</td>\n",
       "      <td>plant</td>\n",
       "      <td>gram</td>\n",
       "    </tr>\n",
       "    <tr>\n",
       "      <th>4</th>\n",
       "      <td>0</td>\n",
       "      <td>Alfalfa</td>\n",
       "      <td>1609216342459</td>\n",
       "      <td>watering</td>\n",
       "      <td>gram</td>\n",
       "    </tr>\n",
       "    <tr>\n",
       "      <th>5</th>\n",
       "      <td>0</td>\n",
       "      <td>Red Clover</td>\n",
       "      <td>1609216348939</td>\n",
       "      <td>watering</td>\n",
       "      <td>gram</td>\n",
       "    </tr>\n",
       "  </tbody>\n",
       "</table>\n",
       "</div>"
      ],
      "text/plain": [
       "   amount      sprout          taken      type scale\n",
       "0      21  Red Clover  1609020559696      prep  gram\n",
       "1      10     Alfalfa  1609020592204      prep  gram\n",
       "2      21  Red Clover  1609120793862     plant  gram\n",
       "3      11     Alfalfa  1609120821865     plant  gram\n",
       "4       0     Alfalfa  1609216342459  watering  gram\n",
       "5       0  Red Clover  1609216348939  watering  gram"
      ]
     },
     "execution_count": 133,
     "metadata": {},
     "output_type": "execute_result"
    }
   ],
   "source": [
    "sprout"
   ]
  },
  {
   "cell_type": "code",
   "execution_count": 137,
   "metadata": {},
   "outputs": [],
   "source": [
    "sprout = pd.read_json(seed_sprouter_file)"
   ]
  },
  {
   "cell_type": "code",
   "execution_count": 138,
   "metadata": {},
   "outputs": [
    {
     "data": {
      "text/html": [
       "<div>\n",
       "<style scoped>\n",
       "    .dataframe tbody tr th:only-of-type {\n",
       "        vertical-align: middle;\n",
       "    }\n",
       "\n",
       "    .dataframe tbody tr th {\n",
       "        vertical-align: top;\n",
       "    }\n",
       "\n",
       "    .dataframe thead th {\n",
       "        text-align: right;\n",
       "    }\n",
       "</style>\n",
       "<table border=\"1\" class=\"dataframe\">\n",
       "  <thead>\n",
       "    <tr style=\"text-align: right;\">\n",
       "      <th></th>\n",
       "      <th>amount</th>\n",
       "      <th>sprout</th>\n",
       "      <th>taken</th>\n",
       "      <th>type</th>\n",
       "      <th>scale</th>\n",
       "    </tr>\n",
       "  </thead>\n",
       "  <tbody>\n",
       "    <tr>\n",
       "      <th>0</th>\n",
       "      <td>21</td>\n",
       "      <td>Red Clover</td>\n",
       "      <td>1609020559696</td>\n",
       "      <td>prep</td>\n",
       "      <td>gram</td>\n",
       "    </tr>\n",
       "    <tr>\n",
       "      <th>1</th>\n",
       "      <td>10</td>\n",
       "      <td>Alfalfa</td>\n",
       "      <td>1609020592204</td>\n",
       "      <td>prep</td>\n",
       "      <td>gram</td>\n",
       "    </tr>\n",
       "    <tr>\n",
       "      <th>2</th>\n",
       "      <td>21</td>\n",
       "      <td>Red Clover</td>\n",
       "      <td>1609120793862</td>\n",
       "      <td>plant</td>\n",
       "      <td>gram</td>\n",
       "    </tr>\n",
       "    <tr>\n",
       "      <th>3</th>\n",
       "      <td>11</td>\n",
       "      <td>Alfalfa</td>\n",
       "      <td>1609120821865</td>\n",
       "      <td>plant</td>\n",
       "      <td>gram</td>\n",
       "    </tr>\n",
       "    <tr>\n",
       "      <th>4</th>\n",
       "      <td>0</td>\n",
       "      <td>Alfalfa</td>\n",
       "      <td>1609216342459</td>\n",
       "      <td>watering</td>\n",
       "      <td>gram</td>\n",
       "    </tr>\n",
       "    <tr>\n",
       "      <th>5</th>\n",
       "      <td>0</td>\n",
       "      <td>Red Clover</td>\n",
       "      <td>1609216348939</td>\n",
       "      <td>watering</td>\n",
       "      <td>gram</td>\n",
       "    </tr>\n",
       "    <tr>\n",
       "      <th>6</th>\n",
       "      <td>0</td>\n",
       "      <td>Alfalfa</td>\n",
       "      <td>1609279141552</td>\n",
       "      <td>watering</td>\n",
       "      <td>None</td>\n",
       "    </tr>\n",
       "    <tr>\n",
       "      <th>7</th>\n",
       "      <td>0</td>\n",
       "      <td>Alfalfa</td>\n",
       "      <td>1609279141829</td>\n",
       "      <td>watering</td>\n",
       "      <td>None</td>\n",
       "    </tr>\n",
       "    <tr>\n",
       "      <th>8</th>\n",
       "      <td>0</td>\n",
       "      <td>Red Clover</td>\n",
       "      <td>1609279163691</td>\n",
       "      <td>watering</td>\n",
       "      <td>None</td>\n",
       "    </tr>\n",
       "    <tr>\n",
       "      <th>9</th>\n",
       "      <td>0</td>\n",
       "      <td>Red Clover</td>\n",
       "      <td>1609279163717</td>\n",
       "      <td>watering</td>\n",
       "      <td>None</td>\n",
       "    </tr>\n",
       "    <tr>\n",
       "      <th>10</th>\n",
       "      <td>0</td>\n",
       "      <td>Alfalfa</td>\n",
       "      <td>1609440017048</td>\n",
       "      <td>watering</td>\n",
       "      <td>None</td>\n",
       "    </tr>\n",
       "    <tr>\n",
       "      <th>11</th>\n",
       "      <td>0</td>\n",
       "      <td>Alfalfa</td>\n",
       "      <td>1609440017280</td>\n",
       "      <td>watering</td>\n",
       "      <td>None</td>\n",
       "    </tr>\n",
       "    <tr>\n",
       "      <th>12</th>\n",
       "      <td>0</td>\n",
       "      <td>Red Clover</td>\n",
       "      <td>1609440022981</td>\n",
       "      <td>watering</td>\n",
       "      <td>None</td>\n",
       "    </tr>\n",
       "    <tr>\n",
       "      <th>13</th>\n",
       "      <td>0</td>\n",
       "      <td>Red Clover</td>\n",
       "      <td>1609440023019</td>\n",
       "      <td>watering</td>\n",
       "      <td>None</td>\n",
       "    </tr>\n",
       "  </tbody>\n",
       "</table>\n",
       "</div>"
      ],
      "text/plain": [
       "    amount      sprout          taken      type scale\n",
       "0       21  Red Clover  1609020559696      prep  gram\n",
       "1       10     Alfalfa  1609020592204      prep  gram\n",
       "2       21  Red Clover  1609120793862     plant  gram\n",
       "3       11     Alfalfa  1609120821865     plant  gram\n",
       "4        0     Alfalfa  1609216342459  watering  gram\n",
       "5        0  Red Clover  1609216348939  watering  gram\n",
       "6        0     Alfalfa  1609279141552  watering  None\n",
       "7        0     Alfalfa  1609279141829  watering  None\n",
       "8        0  Red Clover  1609279163691  watering  None\n",
       "9        0  Red Clover  1609279163717  watering  None\n",
       "10       0     Alfalfa  1609440017048  watering  None\n",
       "11       0     Alfalfa  1609440017280  watering  None\n",
       "12       0  Red Clover  1609440022981  watering  None\n",
       "13       0  Red Clover  1609440023019  watering  None"
      ]
     },
     "execution_count": 138,
     "metadata": {},
     "output_type": "execute_result"
    }
   ],
   "source": [
    "sprout"
   ]
  },
  {
   "cell_type": "code",
   "execution_count": 121,
   "metadata": {},
   "outputs": [],
   "source": [
    "sprout = sprout.append(action(actions_dropdown.value, \n",
    "                              sprout_dropdown.value, \n",
    "                              amount.value), \n",
    "                       ignore_index=True)"
   ]
  },
  {
   "cell_type": "code",
   "execution_count": 122,
   "metadata": {},
   "outputs": [
    {
     "data": {
      "text/html": [
       "<div>\n",
       "<style scoped>\n",
       "    .dataframe tbody tr th:only-of-type {\n",
       "        vertical-align: middle;\n",
       "    }\n",
       "\n",
       "    .dataframe tbody tr th {\n",
       "        vertical-align: top;\n",
       "    }\n",
       "\n",
       "    .dataframe thead th {\n",
       "        text-align: right;\n",
       "    }\n",
       "</style>\n",
       "<table border=\"1\" class=\"dataframe\">\n",
       "  <thead>\n",
       "    <tr style=\"text-align: right;\">\n",
       "      <th></th>\n",
       "      <th>amount</th>\n",
       "      <th>sprout</th>\n",
       "      <th>taken</th>\n",
       "      <th>type</th>\n",
       "      <th>scale</th>\n",
       "    </tr>\n",
       "  </thead>\n",
       "  <tbody>\n",
       "    <tr>\n",
       "      <th>0</th>\n",
       "      <td>21</td>\n",
       "      <td>Red Clover</td>\n",
       "      <td>1609020559696</td>\n",
       "      <td>prep</td>\n",
       "      <td>gram</td>\n",
       "    </tr>\n",
       "    <tr>\n",
       "      <th>1</th>\n",
       "      <td>10</td>\n",
       "      <td>Alfalfa</td>\n",
       "      <td>1609020592204</td>\n",
       "      <td>prep</td>\n",
       "      <td>gram</td>\n",
       "    </tr>\n",
       "    <tr>\n",
       "      <th>2</th>\n",
       "      <td>21</td>\n",
       "      <td>Red Clover</td>\n",
       "      <td>1609120793862</td>\n",
       "      <td>plant</td>\n",
       "      <td>gram</td>\n",
       "    </tr>\n",
       "    <tr>\n",
       "      <th>3</th>\n",
       "      <td>11</td>\n",
       "      <td>Alfalfa</td>\n",
       "      <td>1609120821865</td>\n",
       "      <td>plant</td>\n",
       "      <td>gram</td>\n",
       "    </tr>\n",
       "    <tr>\n",
       "      <th>4</th>\n",
       "      <td>0</td>\n",
       "      <td>Alfalfa</td>\n",
       "      <td>2020-12-29 04:32:22.459657</td>\n",
       "      <td>watering</td>\n",
       "      <td>gram</td>\n",
       "    </tr>\n",
       "    <tr>\n",
       "      <th>5</th>\n",
       "      <td>0</td>\n",
       "      <td>Red Clover</td>\n",
       "      <td>2020-12-29 04:32:28.939065</td>\n",
       "      <td>watering</td>\n",
       "      <td>gram</td>\n",
       "    </tr>\n",
       "  </tbody>\n",
       "</table>\n",
       "</div>"
      ],
      "text/plain": [
       "   amount      sprout                       taken      type scale\n",
       "0      21  Red Clover               1609020559696      prep  gram\n",
       "1      10     Alfalfa               1609020592204      prep  gram\n",
       "2      21  Red Clover               1609120793862     plant  gram\n",
       "3      11     Alfalfa               1609120821865     plant  gram\n",
       "4       0     Alfalfa  2020-12-29 04:32:22.459657  watering  gram\n",
       "5       0  Red Clover  2020-12-29 04:32:28.939065  watering  gram"
      ]
     },
     "execution_count": 122,
     "metadata": {},
     "output_type": "execute_result"
    }
   ],
   "source": [
    "sprout"
   ]
  },
  {
   "cell_type": "code",
   "execution_count": 123,
   "metadata": {},
   "outputs": [],
   "source": []
  },
  {
   "cell_type": "code",
   "execution_count": null,
   "metadata": {},
   "outputs": [],
   "source": []
  }
 ],
 "metadata": {
  "kernelspec": {
   "display_name": "Python 3",
   "language": "python",
   "name": "python3"
  },
  "language_info": {
   "codemirror_mode": {
    "name": "ipython",
    "version": 3
   },
   "file_extension": ".py",
   "mimetype": "text/x-python",
   "name": "python",
   "nbconvert_exporter": "python",
   "pygments_lexer": "ipython3",
   "version": "3.8.1"
  }
 },
 "nbformat": 4,
 "nbformat_minor": 4
}
